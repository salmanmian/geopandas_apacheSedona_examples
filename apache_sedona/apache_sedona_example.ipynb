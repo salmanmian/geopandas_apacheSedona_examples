{
	"cells": [
		{
			"cell_type": "markdown",
			"metadata": {
				"tags": []
			},
			"source": [
				"# Energy Grid Mapping with Apache Sedona on AWS Glue\n",
				"\n",
				"This notebook demonstrates how to use Apache Sedona for distributed geospatial analysis of energy grid infrastructure in AWS Glue.\n",
				"\n",
				"## Topics Covered:\n",
				"1. Sedona setup and configuration in AWS Glue\n",
				"2. Creating synthetic power grid infrastructure data\n",
				"3. Spatial operations: distance calculations, buffers, spatial joins\n",
				"4. Advanced analysis: coverage areas, transmission corridors, gap analysis\n",
				"5. Performance optimization with spatial indexing\n",
				"6. Scaling demonstrations\n",
				"7. Exporting geospatial data to S3"
			]
		},
		{
			"cell_type": "code",
			"execution_count": null,
			"metadata": {
				"tags": [],
				"trusted": true,
				"vscode": {
					"languageId": "python_glue_session"
				}
			},
			"outputs": [],
			"source": [
				"# Glue Environment Configuration\n",
				"%idle_timeout 2880\n",
				"%glue_version 4.0\n",
				"%worker_type G.1X\n",
				"%number_of_workers 2\n",
				"\n",
				"# Sedona (for Spark 3.1 / Glue 4.0)\n",
				"%extra_jars s3://YOUR-BUCKET-NAME/sedona-spark-shaded-3.3_2.12-1.7.0.jar,s3://YOUR-BUCKET-NAME/geotools-wrapper-1.7.1-28.5.jar\n",
				"%additional_python_modules apache-sedona==1.7.0"
			]
		},
		{
			"cell_type": "markdown",
			"metadata": {
				"tags": []
			},
			"source": [
				"## 1. Initialize Sedona Context"
			]
		},
		{
			"cell_type": "code",
			"execution_count": null,
			"metadata": {
				"tags": [],
				"trusted": true,
				"vscode": {
					"languageId": "python_glue_session"
				}
			},
			"outputs": [],
			"source": [
				"## Initialize Sedona Contextfrom sedona.spark import SedonaContext\n",
				"# Import required libraries\n",
				"from sedona.spark import SedonaContext\n",
				"from pyspark.sql import SparkSession\n",
				"from pyspark.sql import functions as F\n",
				"from pyspark.sql.types import StructType, StructField, StringType, IntegerType, DoubleType\n",
				"import numpy as np\n",
				"\n",
				"# Initialize Spark session and Sedona context\n",
				"spark = SparkSession.builder.getOrCreate()\n",
				"sedona = SedonaContext.create(spark)"
			]
		},
		{
			"cell_type": "code",
			"execution_count": 2,
			"metadata": {
				"tags": [],
				"trusted": true,
				"vscode": {
					"languageId": "python_glue_session"
				}
			},
			"outputs": [
				{
					"name": "stdout",
					"output_type": "stream",
					"text": [
						"Testing Sedona installation...\n",
						"+-----------+\n",
						"|geom       |\n",
						"+-----------+\n",
						"|POINT (1 2)|\n",
						"+-----------+\n",
						"\n",
						"✓ Sedona initialized successfully!\n",
						"✓ Spark version: 3.3.0-amzn-1\n",
						"✓ Available workers: 4\n"
					]
				}
			],
			"source": [
				"# Configure Sedona using spark.conf.set()\n",
				"spark.conf.set(\"sedona.global.charset\", \"utf8\")\n",
				"spark.conf.set(\"sedona.global.index\", \"quadtree\")\n",
				"\n",
				"# Test Sedona installation\n",
				"print(\"Testing Sedona installation...\")\n",
				"test_df = sedona.sql(\"SELECT ST_Point(1.0, 2.0) AS geom\")\n",
				"test_df.show(truncate=False)\n",
				"print(f\"✓ Sedona initialized successfully!\")\n",
				"print(f\"✓ Spark version: {spark.version}\")\n",
				"print(f\"✓ Available workers: {sedona.sparkContext.defaultParallelism}\")"
			]
		},
		{
			"cell_type": "markdown",
			"metadata": {
				"tags": []
			},
			"source": [
				"## 2. Create Synthetic Energy Grid Infrastructure\n",
				"\n",
				"We'll create a realistic power grid dataset including:\n",
				"- Power generation facilities (coal, solar, wind, natural gas, hydro, nuclear)\n",
				"- Substations with different voltage classes\n",
				"- Transmission lines connecting the infrastructure\n",
				"- Demand points (cities and industrial zones)"
			]
		},
		{
			"cell_type": "code",
			"execution_count": 8,
			"metadata": {
				"tags": [],
				"trusted": true,
				"vscode": {
					"languageId": "python_glue_session"
				}
			},
			"outputs": [
				{
					"name": "stdout",
					"output_type": "stream",
					"text": [
						"Study Area Created:\n",
						"+----------+-----------------------------------------------------+------------------+\n",
						"|name      |geometry                                             |area_km2          |\n",
						"+----------+-----------------------------------------------------+------------------+\n",
						"|Study Area|POLYGON ((-100 29, -94 29, -94 34, -100 34, -100 29))|436253.95410384226|\n",
						"+----------+-----------------------------------------------------+------------------+\n"
					]
				}
			],
			"source": [
				"# Define study area bounds (Texas-sized region)\n",
				"study_area_bounds = {\n",
				"    'min_lon': -100.0,\n",
				"    'max_lon': -94.0,\n",
				"    'min_lat': 29.0,\n",
				"    'max_lat': 34.0\n",
				"}\n",
				"\n",
				"# Create study area polygon using Sedona SQL\n",
				"study_area_wkt = f\"POLYGON(({study_area_bounds['min_lon']} {study_area_bounds['min_lat']}, \" \\\n",
				"                 f\"{study_area_bounds['max_lon']} {study_area_bounds['min_lat']}, \" \\\n",
				"                 f\"{study_area_bounds['max_lon']} {study_area_bounds['max_lat']}, \" \\\n",
				"                 f\"{study_area_bounds['min_lon']} {study_area_bounds['max_lat']}, \" \\\n",
				"                 f\"{study_area_bounds['min_lon']} {study_area_bounds['min_lat']}))\"\n",
				"\n",
				"study_area_df = sedona.sql(f\"\"\"\n",
				"    SELECT \n",
				"        'Study Area' AS name,\n",
				"        ST_GeomFromWKT('{study_area_wkt}') AS geometry\n",
				"\"\"\")\n",
				"\n",
				"# Register as temp view FIRST before querying\n",
				"study_area_df.createOrReplaceTempView(\"study_area_view\")\n",
				"\n",
				"# Now calculate area (convert to meters using Web Mercator approximation)\n",
				"study_area_with_area = sedona.sql(\"\"\"\n",
				"    SELECT \n",
				"        name,\n",
				"        geometry,\n",
				"        ST_Area(ST_Transform(geometry, 'EPSG:4326', 'EPSG:3857')) / 1000000 AS area_km2\n",
				"    FROM study_area_view\n",
				"\"\"\")\n",
				"\n",
				"print(\"Study Area Created:\")\n",
				"study_area_with_area.show(truncate=False)"
			]
		},
		{
			"cell_type": "code",
			"execution_count": 9,
			"metadata": {
				"tags": [],
				"trusted": true,
				"vscode": {
					"languageId": "python_glue_session"
				}
			},
			"outputs": [
				{
					"name": "stdout",
					"output_type": "stream",
					"text": [
						"Power Generation Facilities:\n",
						"+------------------------+-----------+-----------+-----+----+------------------+\n",
						"|name                    |type       |capacity_mw|lon  |lat |geometry          |\n",
						"+------------------------+-----------+-----------+-----+----+------------------+\n",
						"|Coal Creek Power Station|Coal       |800        |-99.5|31.5|POINT (-99.5 31.5)|\n",
						"|Solar Valley Array      |Solar      |150        |-96.5|30.2|POINT (-96.5 30.2)|\n",
						"|Wind River Farm         |Wind       |300        |-95.2|32.8|POINT (-95.2 32.8)|\n",
						"|Natural Gas Plant 1     |Natural Gas|500        |-97.8|29.8|POINT (-97.8 29.8)|\n",
						"|Hydroelectric Dam       |Hydro      |200        |-98.5|33.2|POINT (-98.5 33.2)|\n",
						"|Nuclear Power Station   |Nuclear    |1200       |-96.0|31.8|POINT (-96 31.8)  |\n",
						"|Solar Farm East         |Solar      |200        |-94.8|31.0|POINT (-94.8 31)  |\n",
						"|Wind Farm North         |Wind       |350        |-99.0|33.8|POINT (-99 33.8)  |\n",
						"|Natural Gas Plant 2     |Natural Gas|450        |-96.8|30.5|POINT (-96.8 30.5)|\n",
						"+------------------------+-----------+-----------+-----+----+------------------+\n",
						"\n",
						"\n",
						"Total Generation Capacity: 4150 MW\n",
						"\n",
						"Capacity by Type:\n",
						"+-----------+--------+-----+\n",
						"|type       |total_mw|count|\n",
						"+-----------+--------+-----+\n",
						"|Nuclear    |1200    |1    |\n",
						"|Natural Gas|950     |2    |\n",
						"|Coal       |800     |1    |\n",
						"|Wind       |650     |2    |\n",
						"|Solar      |350     |2    |\n",
						"|Hydro      |200     |1    |\n",
						"+-----------+--------+-----+\n"
					]
				}
			],
			"source": [
				"# Create power plants data\n",
				"power_plants_data = [\n",
				"    ('Coal Creek Power Station', 'Coal', 800, -99.5, 31.5),\n",
				"    ('Solar Valley Array', 'Solar', 150, -96.5, 30.2),\n",
				"    ('Wind River Farm', 'Wind', 300, -95.2, 32.8),\n",
				"    ('Natural Gas Plant 1', 'Natural Gas', 500, -97.8, 29.8),\n",
				"    ('Hydroelectric Dam', 'Hydro', 200, -98.5, 33.2),\n",
				"    ('Nuclear Power Station', 'Nuclear', 1200, -96.0, 31.8),\n",
				"    ('Solar Farm East', 'Solar', 200, -94.8, 31.0),\n",
				"    ('Wind Farm North', 'Wind', 350, -99.0, 33.8),\n",
				"    ('Natural Gas Plant 2', 'Natural Gas', 450, -96.8, 30.5)\n",
				"]\n",
				"\n",
				"# Create DataFrame\n",
				"power_plants_df = spark.createDataFrame(\n",
				"    power_plants_data,\n",
				"    ['name', 'type', 'capacity_mw', 'lon', 'lat']\n",
				")\n",
				"\n",
				"# Add geometry using Sedona\n",
				"power_plants_df.createOrReplaceTempView(\"power_plants_temp\")\n",
				"power_plants_geo = sedona.sql(\"\"\"\n",
				"    SELECT \n",
				"        name,\n",
				"        type,\n",
				"        capacity_mw,\n",
				"        lon,\n",
				"        lat,\n",
				"        ST_Point(CAST(lon AS Decimal(24,20)), CAST(lat AS Decimal(24,20))) AS geometry\n",
				"    FROM power_plants_temp\n",
				"\"\"\")\n",
				"\n",
				"power_plants_geo.createOrReplaceTempView(\"power_plants\")\n",
				"\n",
				"print(\"Power Generation Facilities:\")\n",
				"power_plants_geo.show(truncate=False)\n",
				"\n",
				"# Calculate total capacity\n",
				"total_capacity = power_plants_geo.selectExpr(\"SUM(capacity_mw) as total_mw\").collect()[0]['total_mw']\n",
				"print(f\"\\nTotal Generation Capacity: {total_capacity} MW\")\n",
				"\n",
				"# Capacity by type\n",
				"capacity_by_type = sedona.sql(\"\"\"\n",
				"    SELECT type, SUM(capacity_mw) as total_mw, COUNT(*) as count\n",
				"    FROM power_plants\n",
				"    GROUP BY type\n",
				"    ORDER BY total_mw DESC\n",
				"\"\"\")\n",
				"print(\"\\nCapacity by Type:\")\n",
				"capacity_by_type.show(truncate=False)"
			]
		},
		{
			"cell_type": "markdown",
			"metadata": {},
			"source": [
				"### 2.2 Substations"
			]
		},
		{
			"cell_type": "code",
			"execution_count": 11,
			"metadata": {
				"tags": [],
				"trusted": true,
				"vscode": {
					"languageId": "python_glue_session"
				}
			},
			"outputs": [
				{
					"name": "stdout",
					"output_type": "stream",
					"text": [
						"Created 25 substations\n",
						"\n",
						"Voltage Class Distribution:\n",
						"+----------+-----+\n",
						"|voltage_kv|count|\n",
						"+----------+-----+\n",
						"|       138|    5|\n",
						"|       230|    3|\n",
						"|       345|    9|\n",
						"|       500|    8|\n",
						"+----------+-----+\n",
						"\n",
						"\n",
						"Sample substations:\n",
						"+-------+----------+------------------+------------------+---------------------------------------------+\n",
						"|id     |voltage_kv|lon               |lat               |geometry                                     |\n",
						"+-------+----------+------------------+------------------+---------------------------------------------+\n",
						"|SUB-001|345       |-94.3686837459055 |30.154469128110744|POINT (-94.3686837459055 30.154469128110744) |\n",
						"|SUB-002|500       |-99.99532740495391|30.205127330130058|POINT (-99.99532740495391 30.205127330130058)|\n",
						"|SUB-003|138       |-94.04673064425269|32.41631759412729 |POINT (-94.04673064425269 32.41631759412729) |\n",
						"|SUB-004|345       |-96.2951109422337 |32.049983288913104|POINT (-96.2951109422337 32.049983288913104) |\n",
						"|SUB-005|345       |-96.33008103707031|33.16597455868082 |POINT (-96.33008103707031 33.16597455868082) |\n",
						"+-------+----------+------------------+------------------+---------------------------------------------+\n",
						"only showing top 5 rows\n"
					]
				}
			],
			"source": [
				"# Generate substations distributed across the study area\n",
				"np.random.seed(42)\n",
				"n_substations = 25\n",
				"\n",
				"substation_ids = [f'SUB-{i+1:03d}' for i in range(n_substations)]\n",
				"# Convert numpy types to Python native types for Spark\n",
				"substation_voltages = [int(v) for v in np.random.choice([138, 230, 345, 500], n_substations)]\n",
				"substation_lons = [float(lon) for lon in np.random.uniform(\n",
				"    study_area_bounds['min_lon'], \n",
				"    study_area_bounds['max_lon'], \n",
				"    n_substations\n",
				")]\n",
				"substation_lats = [float(lat) for lat in np.random.uniform(\n",
				"    study_area_bounds['min_lat'], \n",
				"    study_area_bounds['max_lat'], \n",
				"    n_substations\n",
				")]\n",
				"\n",
				"substations_data = list(zip(substation_ids, substation_voltages, substation_lons, substation_lats))\n",
				"\n",
				"# Create DataFrame\n",
				"substations_df = spark.createDataFrame(\n",
				"    substations_data,\n",
				"    ['id', 'voltage_kv', 'lon', 'lat']\n",
				")\n",
				"\n",
				"# Add geometry\n",
				"substations_df.createOrReplaceTempView(\"substations_temp\")\n",
				"substations_geo = sedona.sql(\"\"\"\n",
				"    SELECT \n",
				"        id,\n",
				"        voltage_kv,\n",
				"        lon,\n",
				"        lat,\n",
				"        ST_Point(CAST(lon AS Decimal(24,20)), CAST(lat AS Decimal(24,20))) AS geometry\n",
				"    FROM substations_temp\n",
				"\"\"\")\n",
				"\n",
				"substations_geo.createOrReplaceTempView(\"substations\")\n",
				"\n",
				"print(f\"Created {n_substations} substations\")\n",
				"print(\"\\nVoltage Class Distribution:\")\n",
				"sedona.sql(\"\"\"\n",
				"    SELECT voltage_kv, COUNT(*) as count\n",
				"    FROM substations\n",
				"    GROUP BY voltage_kv\n",
				"    ORDER BY voltage_kv\n",
				"\"\"\").show()\n",
				"\n",
				"print(\"\\nSample substations:\")\n",
				"substations_geo.show(5, truncate=False)"
			]
		},
		{
			"cell_type": "markdown",
			"metadata": {},
			"source": [
				"### 2.3 Transmission Lines"
			]
		},
		{
			"cell_type": "code",
			"execution_count": 12,
			"metadata": {
				"tags": [],
				"trusted": true,
				"vscode": {
					"languageId": "python_glue_session"
				}
			},
			"outputs": [
				{
					"name": "stdout",
					"output_type": "stream",
					"text": [
						"Transmission Lines Created:\n",
						"Total lines: 56\n",
						"\n",
						"Statistics:\n",
						"+-----------+---------------+-------------+-------------+-------------+\n",
						"|total_lines|total_length_km|avg_length_km|min_length_km|max_length_km|\n",
						"+-----------+---------------+-------------+-------------+-------------+\n",
						"|56         |7363.76        |131.5        |12.46        |225.06       |\n",
						"+-----------+---------------+-------------+-------------+-------------+\n",
						"\n",
						"\n",
						"Lines by type:\n",
						"+----------+----------+-----+\n",
						"| from_type|   to_type|count|\n",
						"+----------+----------+-----+\n",
						"|     Plant|Substation|   27|\n",
						"|Substation|Substation|   29|\n",
						"+----------+----------+-----+\n"
					]
				}
			],
			"source": [
				"# Create transmission lines connecting power plants to substations\n",
				"# We'll use a cross join with distance calculation to find nearest connections\n",
				"\n",
				"transmission_lines = sedona.sql(\"\"\"\n",
				"    WITH plant_substation_distances AS (\n",
				"        SELECT \n",
				"            p.name as from_name,\n",
				"            'Plant' as from_type,\n",
				"            s.id as to_name,\n",
				"            'Substation' as to_type,\n",
				"            s.voltage_kv,\n",
				"            p.geometry as from_geom,\n",
				"            s.geometry as to_geom,\n",
				"            ST_Distance(\n",
				"                ST_Transform(p.geometry, 'EPSG:4326', 'EPSG:3857'),\n",
				"                ST_Transform(s.geometry, 'EPSG:4326', 'EPSG:3857')\n",
				"            ) / 1000 as distance_km,\n",
				"            ROW_NUMBER() OVER (PARTITION BY p.name ORDER BY ST_Distance(p.geometry, s.geometry)) as rank\n",
				"        FROM power_plants p\n",
				"        CROSS JOIN substations s\n",
				"    ),\n",
				"    plant_connections AS (\n",
				"        SELECT \n",
				"            from_name,\n",
				"            from_type,\n",
				"            to_name,\n",
				"            to_type,\n",
				"            voltage_kv,\n",
				"            ST_MakeLine(from_geom, to_geom) as geometry,\n",
				"            distance_km\n",
				"        FROM plant_substation_distances\n",
				"        WHERE rank <= 3  -- Connect each plant to 3 nearest substations\n",
				"    ),\n",
				"    substation_connections AS (\n",
				"        SELECT \n",
				"            s1.id as from_name,\n",
				"            'Substation' as from_type,\n",
				"            s2.id as to_name,\n",
				"            'Substation' as to_type,\n",
				"            s1.voltage_kv,\n",
				"            ST_MakeLine(s1.geometry, s2.geometry) as geometry,\n",
				"            ST_Distance(\n",
				"                ST_Transform(s1.geometry, 'EPSG:4326', 'EPSG:3857'),\n",
				"                ST_Transform(s2.geometry, 'EPSG:4326', 'EPSG:3857')\n",
				"            ) / 1000 as distance_km\n",
				"        FROM substations s1\n",
				"        CROSS JOIN substations s2\n",
				"        WHERE s1.id < s2.id  -- Avoid duplicates\n",
				"            AND ST_Distance(s1.geometry, s2.geometry) < 2.0  -- Only connect nearby substations\n",
				"            AND RAND() > 0.5  -- Randomly connect about half\n",
				"    )\n",
				"    SELECT * FROM plant_connections\n",
				"    UNION ALL\n",
				"    SELECT * FROM substation_connections\n",
				"\"\"\")\n",
				"\n",
				"transmission_lines.createOrReplaceTempView(\"transmission_lines\")\n",
				"\n",
				"print(\"Transmission Lines Created:\")\n",
				"print(f\"Total lines: {transmission_lines.count()}\")\n",
				"print(\"\\nStatistics:\")\n",
				"transmission_lines.selectExpr(\n",
				"    \"COUNT(*) as total_lines\",\n",
				"    \"ROUND(SUM(distance_km), 2) as total_length_km\",\n",
				"    \"ROUND(AVG(distance_km), 2) as avg_length_km\",\n",
				"    \"ROUND(MIN(distance_km), 2) as min_length_km\",\n",
				"    \"ROUND(MAX(distance_km), 2) as max_length_km\"\n",
				").show(truncate=False)\n",
				"\n",
				"print(\"\\nLines by type:\")\n",
				"sedona.sql(\"\"\"\n",
				"    SELECT from_type, to_type, COUNT(*) as count\n",
				"    FROM transmission_lines\n",
				"    GROUP BY from_type, to_type\n",
				"\"\"\").show()"
			]
		},
		{
			"cell_type": "markdown",
			"metadata": {},
			"source": [
				"### 2.4 Demand Points (Cities and Industrial Zones)"
			]
		},
		{
			"cell_type": "code",
			"execution_count": 13,
			"metadata": {
				"tags": [],
				"trusted": true,
				"vscode": {
					"languageId": "python_glue_session"
				}
			},
			"outputs": [
				{
					"name": "stdout",
					"output_type": "stream",
					"text": [
						"Demand Points Created:\n",
						"+-----------------+----------+---------+-----+----+------------------+\n",
						"|name             |type      |demand_mw|lon  |lat |geometry          |\n",
						"+-----------------+----------+---------+-----+----+------------------+\n",
						"|City A           |City      |150      |-98.2|30.5|POINT (-98.2 30.5)|\n",
						"|City B           |City      |200      |-96.8|32.1|POINT (-96.8 32.1)|\n",
						"|City C           |City      |100      |-95.5|30.8|POINT (-95.5 30.8)|\n",
						"|Industrial Zone 1|Industrial|300      |-99.2|32.5|POINT (-99.2 32.5)|\n",
						"|City D           |City      |180      |-97.5|31.2|POINT (-97.5 31.2)|\n",
						"|Industrial Zone 2|Industrial|250      |-95.8|33.0|POINT (-95.8 33)  |\n",
						"|City E           |City      |120      |-98.8|29.5|POINT (-98.8 29.5)|\n",
						"+-----------------+----------+---------+-----+----+------------------+\n",
						"\n",
						"\n",
						"Total Demand: 1300 MW\n"
					]
				}
			],
			"source": [
				"# Create demand points (cities and industrial zones)\n",
				"demand_points_data = [\n",
				"    ('City A', 'City', 150, -98.2, 30.5),\n",
				"    ('City B', 'City', 200, -96.8, 32.1),\n",
				"    ('City C', 'City', 100, -95.5, 30.8),\n",
				"    ('Industrial Zone 1', 'Industrial', 300, -99.2, 32.5),\n",
				"    ('City D', 'City', 180, -97.5, 31.2),\n",
				"    ('Industrial Zone 2', 'Industrial', 250, -95.8, 33.0),\n",
				"    ('City E', 'City', 120, -98.8, 29.5)\n",
				"]\n",
				"\n",
				"demand_points_df = spark.createDataFrame(\n",
				"    demand_points_data,\n",
				"    ['name', 'type', 'demand_mw', 'lon', 'lat']\n",
				")\n",
				"\n",
				"# Add geometry\n",
				"demand_points_df.createOrReplaceTempView(\"demand_points_temp\")\n",
				"demand_points_geo = sedona.sql(\"\"\"\n",
				"    SELECT \n",
				"        name,\n",
				"        type,\n",
				"        demand_mw,\n",
				"        lon,\n",
				"        lat,\n",
				"        ST_Point(CAST(lon AS Decimal(24,20)), CAST(lat AS Decimal(24,20))) AS geometry\n",
				"    FROM demand_points_temp\n",
				"\"\"\")\n",
				"\n",
				"demand_points_geo.createOrReplaceTempView(\"demand_points\")\n",
				"\n",
				"print(\"Demand Points Created:\")\n",
				"demand_points_geo.show(truncate=False)\n",
				"\n",
				"total_demand = demand_points_geo.selectExpr(\"SUM(demand_mw) as total_mw\").collect()[0]['total_mw']\n",
				"print(f\"\\nTotal Demand: {total_demand} MW\")"
			]
		},
		{
			"cell_type": "markdown",
			"metadata": {},
			"source": [
				"## 3. Basic Spatial Operations"
			]
		},
		{
			"cell_type": "markdown",
			"metadata": {},
			"source": [
				"### 3.1 Distance Calculations - Find Nearest Substation to Each Demand Point"
			]
		},
		{
			"cell_type": "code",
			"execution_count": 14,
			"metadata": {
				"tags": [],
				"trusted": true,
				"vscode": {
					"languageId": "python_glue_session"
				}
			},
			"outputs": [
				{
					"name": "stdout",
					"output_type": "stream",
					"text": [
						"Nearest Substation Analysis:\n",
						"+-----------------+-----------+---------+------------------+----------+-----------+\n",
						"|demand_point     |demand_type|demand_mw|nearest_substation|voltage_kv|distance_km|\n",
						"+-----------------+-----------+---------+------------------+----------+-----------+\n",
						"|City A           |City       |150      |SUB-015           |500       |111.65     |\n",
						"|Industrial Zone 1|Industrial |300      |SUB-012           |345       |109.45     |\n",
						"|City E           |City       |120      |SUB-013           |345       |85.21      |\n",
						"|Industrial Zone 2|Industrial |250      |SUB-014           |345       |61.33      |\n",
						"|City B           |City       |200      |SUB-004           |345       |56.59      |\n",
						"|City C           |City       |100      |SUB-019           |500       |51.34      |\n",
						"|City D           |City       |180      |SUB-015           |500       |23.71      |\n",
						"+-----------------+-----------+---------+------------------+----------+-----------+\n",
						"\n",
						"\n",
						"Average distance to nearest substation: 71.33 km\n",
						"Maximum distance to nearest substation: 111.65 km\n"
					]
				}
			],
			"source": [
				"# Find nearest substation for each demand point using spatial join\n",
				"nearest_substations = sedona.sql(\"\"\"\n",
				"    WITH distances AS (\n",
				"        SELECT \n",
				"            d.name as demand_point,\n",
				"            d.type as demand_type,\n",
				"            d.demand_mw,\n",
				"            s.id as nearest_substation,\n",
				"            s.voltage_kv,\n",
				"            ST_Distance(\n",
				"                ST_Transform(d.geometry, 'EPSG:4326', 'EPSG:3857'),\n",
				"                ST_Transform(s.geometry, 'EPSG:4326', 'EPSG:3857')\n",
				"            ) / 1000 as distance_km,\n",
				"            ROW_NUMBER() OVER (PARTITION BY d.name ORDER BY ST_Distance(d.geometry, s.geometry)) as rank\n",
				"        FROM demand_points d\n",
				"        CROSS JOIN substations s\n",
				"    )\n",
				"    SELECT \n",
				"        demand_point,\n",
				"        demand_type,\n",
				"        demand_mw,\n",
				"        nearest_substation,\n",
				"        voltage_kv,\n",
				"        ROUND(distance_km, 2) as distance_km\n",
				"    FROM distances\n",
				"    WHERE rank = 1\n",
				"    ORDER BY distance_km DESC\n",
				"\"\"\")\n",
				"\n",
				"print(\"Nearest Substation Analysis:\")\n",
				"nearest_substations.show(truncate=False)\n",
				"\n",
				"# Calculate statistics\n",
				"avg_distance = nearest_substations.selectExpr(\"AVG(distance_km) as avg_km\").collect()[0]['avg_km']\n",
				"max_distance = nearest_substations.selectExpr(\"MAX(distance_km) as max_km\").collect()[0]['max_km']\n",
				"print(f\"\\nAverage distance to nearest substation: {avg_distance:.2f} km\")\n",
				"print(f\"Maximum distance to nearest substation: {max_distance:.2f} km\")"
			]
		},
		{
			"cell_type": "markdown",
			"metadata": {},
			"source": [
				"### 3.2 Service Areas - Create Buffers Around Substations"
			]
		},
		{
			"cell_type": "code",
			"execution_count": 15,
			"metadata": {
				"tags": [],
				"trusted": true,
				"vscode": {
					"languageId": "python_glue_session"
				}
			},
			"outputs": [
				{
					"name": "stdout",
					"output_type": "stream",
					"text": [
						"Service Areas Created:\n",
						"Total service area (with overlaps): 289,982 km²\n",
						"+----------+---------------+-----------------+--------------+\n",
						"|voltage_kv|num_substations|service_radius_km|total_area_km2|\n",
						"+----------+---------------+-----------------+--------------+\n",
						"|500       |8              |75.0             |140465.03     |\n",
						"|345       |9              |60.0             |101134.82     |\n",
						"|230       |3              |50.0             |23410.84      |\n",
						"|138       |5              |40.0             |24971.56      |\n",
						"+----------+---------------+-----------------+--------------+\n"
					]
				}
			],
			"source": [
				"# Create service areas (buffers) around substations\n",
				"# Service radius varies by voltage: higher voltage = larger service area\n",
				"service_areas = sedona.sql(\"\"\"\n",
				"    SELECT \n",
				"        id,\n",
				"        voltage_kv,\n",
				"        CASE \n",
				"            WHEN voltage_kv >= 500 THEN 75000  -- 75 km for 500 kV\n",
				"            WHEN voltage_kv >= 345 THEN 60000  -- 60 km for 345 kV\n",
				"            WHEN voltage_kv >= 230 THEN 50000  -- 50 km for 230 kV\n",
				"            ELSE 40000  -- 40 km for 138 kV\n",
				"        END as service_radius_m,\n",
				"        geometry as original_geom,\n",
				"        ST_Buffer(\n",
				"            ST_Transform(geometry, 'EPSG:4326', 'EPSG:3857'),\n",
				"            CASE \n",
				"                WHEN voltage_kv >= 500 THEN 75000\n",
				"                WHEN voltage_kv >= 345 THEN 60000\n",
				"                WHEN voltage_kv >= 230 THEN 50000\n",
				"                ELSE 40000\n",
				"            END\n",
				"        ) as service_area_geom\n",
				"    FROM substations\n",
				"\"\"\")\n",
				"\n",
				"service_areas.createOrReplaceTempView(\"service_areas\")\n",
				"\n",
				"# Calculate total service area (with overlaps)\n",
				"total_service_area = sedona.sql(\"\"\"\n",
				"    SELECT \n",
				"        SUM(ST_Area(service_area_geom) / 1000000) as total_area_km2\n",
				"    FROM service_areas\n",
				"\"\"\").collect()[0]['total_area_km2']\n",
				"\n",
				"print(f\"Service Areas Created:\")\n",
				"print(f\"Total service area (with overlaps): {total_service_area:,.0f} km²\")\n",
				"\n",
				"# Show service area breakdown by voltage class\n",
				"sedona.sql(\"\"\"\n",
				"    SELECT \n",
				"        voltage_kv,\n",
				"        COUNT(*) as num_substations,\n",
				"        service_radius_m / 1000 as service_radius_km,\n",
				"        ROUND(SUM(ST_Area(service_area_geom) / 1000000), 2) as total_area_km2\n",
				"    FROM service_areas\n",
				"    GROUP BY voltage_kv, service_radius_m\n",
				"    ORDER BY voltage_kv DESC\n",
				"\"\"\").show(truncate=False)\n"
			]
		},
		{
			"cell_type": "markdown",
			"metadata": {},
			"source": [
				"### 3.3 Point-in-Polygon Analysis - Which Demand Points are Covered?"
			]
		},
		{
			"cell_type": "code",
			"execution_count": 16,
			"metadata": {
				"tags": [],
				"trusted": true,
				"vscode": {
					"languageId": "python_glue_session"
				}
			},
			"outputs": [
				{
					"name": "stdout",
					"output_type": "stream",
					"text": [
						"Demand Point Coverage Analysis:\n",
						"+-----------------+----------+---------+------------------------+--------------------+\n",
						"|name             |type      |demand_mw|num_covering_substations|covering_substations|\n",
						"+-----------------+----------+---------+------------------------+--------------------+\n",
						"|City B           |City      |200      |1                       |[SUB-004]           |\n",
						"|City C           |City      |100      |1                       |[SUB-019]           |\n",
						"|City D           |City      |180      |1                       |[SUB-015]           |\n",
						"|City A           |City      |150      |0                       |[]                  |\n",
						"|Industrial Zone 2|Industrial|250      |0                       |[]                  |\n",
						"|Industrial Zone 1|Industrial|300      |0                       |[]                  |\n",
						"|City E           |City      |120      |0                       |[]                  |\n",
						"+-----------------+----------+---------+------------------------+--------------------+\n",
						"\n",
						"\n",
						"Coverage Statistics:\n",
						"Demand points covered: 3 / 7 (42.9%)\n",
						"Demand points with redundant coverage (2+ substations): 0\n"
					]
				}
			],
			"source": [
				"# Check which demand points fall within service areas using ST_Within\n",
				"demand_coverage = sedona.sql(\"\"\"\n",
				"    SELECT \n",
				"        d.name,\n",
				"        d.type,\n",
				"        d.demand_mw,\n",
				"        COUNT(DISTINCT s.id) as num_covering_substations,\n",
				"        COLLECT_LIST(s.id) as covering_substations\n",
				"    FROM demand_points d\n",
				"    LEFT JOIN service_areas s \n",
				"        ON ST_Within(\n",
				"            ST_Transform(d.geometry, 'EPSG:4326', 'EPSG:3857'),\n",
				"            s.service_area_geom\n",
				"        )\n",
				"    GROUP BY d.name, d.type, d.demand_mw\n",
				"    ORDER BY num_covering_substations DESC\n",
				"\"\"\")\n",
				"\n",
				"print(\"Demand Point Coverage Analysis:\")\n",
				"demand_coverage.show(truncate=False)\n",
				"\n",
				"# Calculate coverage statistics\n",
				"covered_points = demand_coverage.filter(\"num_covering_substations > 0\").count()\n",
				"total_points = demand_coverage.count()\n",
				"coverage_pct = (covered_points / total_points) * 100\n",
				"\n",
				"print(f\"\\nCoverage Statistics:\")\n",
				"print(f\"Demand points covered: {covered_points} / {total_points} ({coverage_pct:.1f}%)\")\n",
				"print(f\"Demand points with redundant coverage (2+ substations): {demand_coverage.filter('num_covering_substations >= 2').count()}\")\n"
			]
		},
		{
			"cell_type": "markdown",
			"metadata": {},
			"source": [
				"## 4. Advanced Spatial Analysis"
			]
		},
		{
			"cell_type": "markdown",
			"metadata": {},
			"source": [
				"### 4.1 Transmission Corridors - Buffers Around Transmission Lines"
			]
		},
		{
			"cell_type": "code",
			"execution_count": 17,
			"metadata": {
				"tags": [],
				"trusted": true,
				"vscode": {
					"languageId": "python_glue_session"
				}
			},
			"outputs": [
				{
					"name": "stdout",
					"output_type": "stream",
					"text": [
						"Transmission Corridor Analysis:\n",
						"+-------------+-----------+--------------+\n",
						"|num_corridors|avg_width_m|total_area_km2|\n",
						"+-------------+-----------+--------------+\n",
						"|56           |398.0      |6087.47       |\n",
						"+-------------+-----------+--------------+\n",
						"\n",
						"+----------+----------------+---------+-----------------------+\n",
						"|voltage_kv|corridor_width_m|num_lines|total_corridor_area_km2|\n",
						"+----------+----------------+---------+-----------------------+\n",
						"|500       |500             |17       |2367.46                |\n",
						"|345       |400             |28       |3337.09                |\n",
						"|230       |300             |4        |117.06                 |\n",
						"|138       |200             |7        |265.85                 |\n",
						"+----------+----------------+---------+-----------------------+\n"
					]
				}
			],
			"source": [
				"# Create transmission corridors with varying widths based on voltage\n",
				"transmission_corridors = sedona.sql(\"\"\"\n",
				"    SELECT \n",
				"        from_name,\n",
				"        to_name,\n",
				"        voltage_kv,\n",
				"        CASE \n",
				"            WHEN voltage_kv >= 500 THEN 500  -- 500m for 500kV lines\n",
				"            WHEN voltage_kv >= 345 THEN 400  -- 400m for 345kV lines\n",
				"            WHEN voltage_kv >= 230 THEN 300  -- 300m for 230kV lines\n",
				"            ELSE 200  -- 200m for lower voltage\n",
				"        END as corridor_width_m,\n",
				"        geometry as line_geom,\n",
				"        ST_Buffer(\n",
				"            ST_Transform(geometry, 'EPSG:4326', 'EPSG:3857'),\n",
				"            CASE \n",
				"                WHEN voltage_kv >= 500 THEN 500\n",
				"                WHEN voltage_kv >= 345 THEN 400\n",
				"                WHEN voltage_kv >= 230 THEN 300\n",
				"                ELSE 200\n",
				"            END\n",
				"        ) as corridor_geom\n",
				"    FROM transmission_lines\n",
				"\"\"\")\n",
				"\n",
				"transmission_corridors.createOrReplaceTempView(\"transmission_corridors\")\n",
				"\n",
				"# Calculate total corridor area\n",
				"corridor_stats = sedona.sql(\"\"\"\n",
				"    SELECT \n",
				"        COUNT(*) as num_corridors,\n",
				"        ROUND(AVG(corridor_width_m), 0) as avg_width_m,\n",
				"        ROUND(SUM(ST_Area(corridor_geom) / 1000000), 2) as total_area_km2\n",
				"    FROM transmission_corridors\n",
				"\"\"\")\n",
				"\n",
				"print(\"Transmission Corridor Analysis:\")\n",
				"corridor_stats.show(truncate=False)\n",
				"\n",
				"# Breakdown by voltage class\n",
				"sedona.sql(\"\"\"\n",
				"    SELECT \n",
				"        voltage_kv,\n",
				"        corridor_width_m,\n",
				"        COUNT(*) as num_lines,\n",
				"        ROUND(SUM(ST_Area(corridor_geom) / 1000000), 2) as total_corridor_area_km2\n",
				"    FROM transmission_corridors\n",
				"    GROUP BY voltage_kv, corridor_width_m\n",
				"    ORDER BY voltage_kv DESC\n",
				"\"\"\").show(truncate=False)"
			]
		},
		{
			"cell_type": "markdown",
			"metadata": {},
			"source": [
				"### 4.2 Coverage Gap Analysis"
			]
		},
		{
			"cell_type": "code",
			"execution_count": null,
			"metadata": {
				"tags": [],
				"trusted": true,
				"vscode": {
					"languageId": "python_glue_session"
				}
			},
			"outputs": [
				{
					"name": "stdout",
					"output_type": "stream",
					"text": [
						"Coverage Gap Analysis:\n",
						"Note: Percentages based on union of service areas (overlaps removed)\n",
						"      Coverage % + Gap % should equal 100%\n",
						"+--------------+-------------------+------------+------------+-------+\n",
						"|study_area_km2|actual_coverage_km2|gap_area_km2|coverage_pct|gap_pct|\n",
						"+--------------+-------------------+------------+------------+-------+\n",
						"|436253.95     |218665.95          |217588.0    |50.1        |49.9   |\n",
						"+--------------+-------------------+------------+------------+-------+\n",
						"\n",
						"\n",
						"Verification (should be 100.0%):\n",
						"+---------+\n",
						"|total_pct|\n",
						"+---------+\n",
						"|100.0    |\n",
						"+---------+\n",
						"\n",
						"\n",
						"Service Area Overlap Statistics:\n",
						"Note: Individual areas sum to more than actual coverage due to overlaps\n",
						"+---------------+--------------------------+-------------------+----------------+\n",
						"|num_substations|total_individual_areas_km2|actual_coverage_km2|overlap_area_km2|\n",
						"+---------------+--------------------------+-------------------+----------------+\n",
						"|25             |289982.25                 |218665.95          |71316.3         |\n",
						"+---------------+--------------------------+-------------------+----------------+\n",
						"\n",
						"\n",
						"Top 10 Substations by Individual Service Area:\n",
						"+-------+----------+-----------------+-------------------+\n",
						"|id     |voltage_kv|service_radius_km|individual_area_km2|\n",
						"+-------+----------+-----------------+-------------------+\n",
						"|SUB-015|500       |75.0             |17558.13           |\n",
						"|SUB-017|500       |75.0             |17558.13           |\n",
						"|SUB-002|500       |75.0             |17558.13           |\n",
						"|SUB-006|500       |75.0             |17558.13           |\n",
						"|SUB-018|500       |75.0             |17558.13           |\n",
						"|SUB-019|500       |75.0             |17558.13           |\n",
						"|SUB-024|500       |75.0             |17558.13           |\n",
						"|SUB-025|500       |75.0             |17558.13           |\n",
						"|SUB-014|345       |60.0             |11237.2            |\n",
						"|SUB-009|345       |60.0             |11237.2            |\n",
						"+-------+----------+-----------------+-------------------+\n"
					]
				}
			],
			"source": [
				"# Calculate coverage gaps using ST_Union\n",
				"# First, union all service areas to get total coverage (this removes overlaps)\n",
				"union_coverage = sedona.sql(\"\"\"\n",
				"    SELECT ST_Union_Aggr(service_area_geom) as total_coverage\n",
				"    FROM service_areas\n",
				"\"\"\")\n",
				"\n",
				"union_coverage.createOrReplaceTempView(\"union_coverage\")\n",
				"\n",
				"# Calculate coverage statistics - the gap should equal study_area - union_coverage\n",
				"coverage_stats = sedona.sql(\"\"\"\n",
				"    SELECT \n",
				"        ST_Area(ST_Transform(s.geometry, 'EPSG:4326', 'EPSG:3857')) / 1000000 as study_area_km2,\n",
				"        ST_Area(c.total_coverage) / 1000000 as union_coverage_km2\n",
				"    FROM study_area_view s\n",
				"    CROSS JOIN union_coverage c\n",
				"\"\"\")\n",
				"\n",
				"coverage_stats.createOrReplaceTempView(\"coverage_stats\")\n",
				"\n",
				"# Calculate gap as simple subtraction\n",
				"gap_analysis = sedona.sql(\"\"\"\n",
				"    SELECT \n",
				"        ROUND(study_area_km2, 2) as study_area_km2,\n",
				"        ROUND(union_coverage_km2, 2) as actual_coverage_km2,\n",
				"        ROUND(study_area_km2 - union_coverage_km2, 2) as gap_area_km2,\n",
				"        ROUND((union_coverage_km2 / study_area_km2) * 100, 1) as coverage_pct,\n",
				"        ROUND(((study_area_km2 - union_coverage_km2) / study_area_km2) * 100, 1) as gap_pct\n",
				"    FROM coverage_stats\n",
				"\"\"\")\n",
				"\n",
				"print(\"Coverage Gap Analysis:\")\n",
				"print(\"Note: Percentages based on union of service areas (overlaps removed)\")\n",
				"print(\"      Coverage % + Gap % should equal 100%\")\n",
				"gap_analysis.show(truncate=False)\n",
				"\n",
				"# Verify the math\n",
				"verification = sedona.sql(\"\"\"\n",
				"    SELECT \n",
				"        ROUND((union_coverage_km2 / study_area_km2) * 100, 1) + \n",
				"        ROUND(((study_area_km2 - union_coverage_km2) / study_area_km2) * 100, 1) as total_pct\n",
				"    FROM coverage_stats\n",
				"\"\"\")\n",
				"print(\"\\nVerification (should be 100.0%):\")\n",
				"verification.show(truncate=False)\n",
				"\n",
				"# Show overlap statistics\n",
				"overlap_stats = sedona.sql(\"\"\"\n",
				"    SELECT \n",
				"        COUNT(*) as num_substations,\n",
				"        ROUND(SUM(ST_Area(service_area_geom) / 1000000), 2) as total_individual_areas_km2,\n",
				"        ROUND((SELECT union_coverage_km2 FROM coverage_stats), 2) as actual_coverage_km2,\n",
				"        ROUND(SUM(ST_Area(service_area_geom) / 1000000) - (SELECT union_coverage_km2 FROM coverage_stats), 2) as overlap_area_km2\n",
				"    FROM service_areas\n",
				"\"\"\")\n",
				"\n",
				"print(\"\\nService Area Overlap Statistics:\")\n",
				"print(\"Note: Individual areas sum to more than actual coverage due to overlaps\")\n",
				"overlap_stats.show(truncate=False)\n",
				"\n",
				"# Identify substations that contribute most to coverage\n",
				"substation_coverage_contribution = sedona.sql(\"\"\"\n",
				"    SELECT \n",
				"        id,\n",
				"        voltage_kv,\n",
				"        service_radius_m / 1000 as service_radius_km,\n",
				"        ROUND(ST_Area(service_area_geom) / 1000000, 2) as individual_area_km2\n",
				"    FROM service_areas\n",
				"    ORDER BY individual_area_km2 DESC\n",
				"    LIMIT 10\n",
				"\"\"\")\n",
				"\n",
				"print(\"\\nTop 10 Substations by Individual Service Area:\")\n",
				"substation_coverage_contribution.show(truncate=False)\n"
			]
		},
		{
			"cell_type": "markdown",
			"metadata": {},
			"source": [
				"### 4.3 Spatial Relationships - Intersections and Connectivity"
			]
		},
		{
			"cell_type": "code",
			"execution_count": 22,
			"metadata": {
				"tags": [],
				"trusted": true,
				"vscode": {
					"languageId": "python_glue_session"
				}
			},
			"outputs": [
				{
					"name": "stdout",
					"output_type": "stream",
					"text": [
						"Overlapping Service Areas (Top 15 by overlap size):\n",
						"+------------+---------+------------+---------+----------------+\n",
						"|substation_1|voltage_1|substation_2|voltage_2|overlap_area_km2|\n",
						"+------------+---------+------------+---------+----------------+\n",
						"|SUB-009     |345      |SUB-024     |500      |11237.2         |\n",
						"|SUB-002     |500      |SUB-006     |500      |11117.76        |\n",
						"|SUB-005     |345      |SUB-014     |345      |10336.24        |\n",
						"|SUB-001     |345      |SUB-011     |345      |7945.63         |\n",
						"|SUB-021     |230      |SUB-025     |500      |7803.61         |\n",
						"|SUB-005     |345      |SUB-023     |230      |5766.55         |\n",
						"|SUB-014     |345      |SUB-023     |230      |5402.09         |\n",
						"|SUB-007     |138      |SUB-010     |230      |3824.61         |\n",
						"|SUB-010     |230      |SUB-025     |500      |3091.21         |\n",
						"|SUB-015     |500      |SUB-020     |345      |2959.59         |\n",
						"|SUB-017     |500      |SUB-023     |230      |2448.82         |\n",
						"|SUB-010     |230      |SUB-021     |230      |1725.75         |\n",
						"|SUB-006     |500      |SUB-013     |345      |1551.51         |\n",
						"|SUB-003     |138      |SUB-018     |500      |925.41          |\n",
						"|SUB-005     |345      |SUB-017     |500      |912.23          |\n",
						"+------------+---------+------------+---------+----------------+\n",
						"\n",
						"\n",
						"Transmission Lines Through Service Areas:\n",
						"Total line-service area intersections: 143\n",
						"+---------------+----------+------------------+--------------------+\n",
						"|service_area_id|voltage_kv|num_lines_crossing|total_line_length_km|\n",
						"+---------------+----------+------------------+--------------------+\n",
						"|SUB-005        |345       |12                |627.29              |\n",
						"|SUB-014        |345       |12                |587.29              |\n",
						"|SUB-023        |230       |12                |570.67              |\n",
						"|SUB-009        |345       |10                |577.88              |\n",
						"|SUB-024        |500       |10                |719.58              |\n",
						"|SUB-019        |500       |8                 |598.26              |\n",
						"|SUB-020        |345       |7                 |446.55              |\n",
						"|SUB-010        |230       |6                 |339.96              |\n",
						"|SUB-025        |500       |6                 |300.9               |\n",
						"|SUB-007        |138       |6                 |237.03              |\n",
						"+---------------+----------+------------------+--------------------+\n"
					]
				}
			],
			"source": [
				"# Find overlapping service areas (ST_Intersects)\n",
				"overlapping_service_areas = sedona.sql(\"\"\"\n",
				"    SELECT \n",
				"        s1.id as substation_1,\n",
				"        s1.voltage_kv as voltage_1,\n",
				"        s2.id as substation_2,\n",
				"        s2.voltage_kv as voltage_2,\n",
				"        ROUND(ST_Area(ST_Intersection(s1.service_area_geom, s2.service_area_geom)) / 1000000, 2) as overlap_area_km2\n",
				"    FROM service_areas s1\n",
				"    JOIN service_areas s2 \n",
				"        ON s1.id < s2.id \n",
				"        AND ST_Intersects(s1.service_area_geom, s2.service_area_geom)\n",
				"    WHERE ST_Area(ST_Intersection(s1.service_area_geom, s2.service_area_geom)) > 0\n",
				"    ORDER BY overlap_area_km2 DESC\n",
				"    LIMIT 15\n",
				"\"\"\")\n",
				"\n",
				"print(\"Overlapping Service Areas (Top 15 by overlap size):\")\n",
				"overlapping_service_areas.show(truncate=False)\n",
				"\n",
				"# Find transmission lines that cross service areas\n",
				"lines_through_service_areas = sedona.sql(\"\"\"\n",
				"    SELECT \n",
				"        t.from_name,\n",
				"        t.to_name,\n",
				"        s.id as service_area_id,\n",
				"        s.voltage_kv,\n",
				"        ST_Length(\n",
				"            ST_Intersection(\n",
				"                ST_Transform(t.geometry, 'EPSG:4326', 'EPSG:3857'),\n",
				"                s.service_area_geom\n",
				"            )\n",
				"        ) / 1000 as length_in_service_area_km\n",
				"    FROM transmission_lines t\n",
				"    JOIN service_areas s \n",
				"        ON ST_Intersects(\n",
				"            ST_Transform(t.geometry, 'EPSG:4326', 'EPSG:3857'),\n",
				"            s.service_area_geom\n",
				"        )\n",
				"    WHERE ST_Length(\n",
				"        ST_Intersection(\n",
				"            ST_Transform(t.geometry, 'EPSG:4326', 'EPSG:3857'),\n",
				"            s.service_area_geom\n",
				"        )\n",
				"    ) > 0\n",
				"\"\"\")\n",
				"\n",
				"lines_through_service_areas.createOrReplaceTempView(\"lines_through_service\")\n",
				"\n",
				"print(f\"\\nTransmission Lines Through Service Areas:\")\n",
				"print(f\"Total line-service area intersections: {lines_through_service_areas.count()}\")\n",
				"\n",
				"sedona.sql(\"\"\"\n",
				"    SELECT \n",
				"        service_area_id,\n",
				"        voltage_kv,\n",
				"        COUNT(*) as num_lines_crossing,\n",
				"        ROUND(SUM(length_in_service_area_km), 2) as total_line_length_km\n",
				"    FROM lines_through_service\n",
				"    GROUP BY service_area_id, voltage_kv\n",
				"    ORDER BY num_lines_crossing DESC\n",
				"    LIMIT 10\n",
				"\"\"\").show(truncate=False)"
			]
		},
		{
			"cell_type": "markdown",
			"metadata": {},
			"source": [
				"## 5. Performance Optimization with Spatial Indexing\n",
				"\n",
				"Sedona supports spatial indexing to dramatically improve query performance on large datasets."
			]
		},
		{
			"cell_type": "code",
			"execution_count": 25,
			"metadata": {
				"tags": [],
				"trusted": true,
				"vscode": {
					"languageId": "python_glue_session"
				}
			},
			"outputs": [
				{
					"name": "stdout",
					"output_type": "stream",
					"text": [
						"============================================================\n",
						"SPATIAL JOIN PERFORMANCE OPTIMIZATION\n",
						"============================================================\n",
						"\n",
						"Note: With small datasets (25 substations, 7 demand points),\n",
						"performance differences are minimal. Benefits appear with larger datasets.\n",
						"\n",
						"1. Standard Spatial Join:\n",
						"   Results: 3 demand points covered\n",
						"   Time: 1.205 seconds\n",
						"\n",
						"2. Broadcast Join (for small dataset joins):\n",
						"   Results: 3 demand points covered\n",
						"   Time: 1.083 seconds\n",
						"   Note: Broadcast overhead may not help with very small datasets\n",
						"\n",
						"3. Pre-filtered Spatial Join (best practice):\n",
						"   Results: 3 demand points covered by high-voltage substations\n",
						"   Time: 1.126 seconds\n",
						"   Note: Pre-filtering reduces data before expensive spatial operations\n",
						"\n",
						"============================================================\n",
						"KEY OPTIMIZATION TECHNIQUES:\n",
						"============================================================\n",
						"1. BROADCAST JOIN: Use /*+ BROADCAST(table) */ for small (<10MB) to large joins\n",
						"   - Sends small dataset to all workers\n",
						"   - Most effective with 1:many join ratios\n",
						"\n",
						"2. PRE-FILTERING: Apply non-spatial filters BEFORE spatial operations\n",
						"   - Filter by attributes first (voltage_kv, capacity, etc.)\n",
						"   - Reduces data volume for expensive spatial computations\n",
						"\n",
						"3. CACHING: Use .cache() for datasets used multiple times\n",
						"   - Stores intermediate results in memory\n",
						"   - Avoids recomputing expensive operations\n",
						"\n",
						"4. SPATIAL PARTITIONING: Sedona automatically partitions spatially\n",
						"   - Groups nearby geometries together\n",
						"   - Reduces cross-partition communication\n",
						"\n",
						"5. PREDICATE PUSHDOWN: Use spatial predicates efficiently\n",
						"   - ST_Within, ST_Intersects often faster than ST_Distance\n",
						"   - Avoid ST_Distance when spatial predicates suffice\n"
					]
				}
			],
			"source": [
				"# Demonstrate spatial query optimization\n",
				"import time\n",
				"\n",
				"print(\"=\"*60)\n",
				"print(\"SPATIAL JOIN PERFORMANCE OPTIMIZATION\")\n",
				"print(\"=\"*60)\n",
				"print(\"\\nNote: With small datasets (25 substations, 7 demand points),\")\n",
				"print(\"performance differences are minimal. Benefits appear with larger datasets.\")\n",
				"\n",
				"# Test 1: Standard spatial join\n",
				"print(\"\\n1. Standard Spatial Join:\")\n",
				"start_time = time.time()\n",
				"result_standard = sedona.sql(\"\"\"\n",
				"    SELECT COUNT(*) as count\n",
				"    FROM demand_points d\n",
				"    JOIN service_areas s \n",
				"        ON ST_Within(\n",
				"            ST_Transform(d.geometry, 'EPSG:4326', 'EPSG:3857'),\n",
				"            s.service_area_geom\n",
				"        )\n",
				"\"\"\")\n",
				"count_standard = result_standard.collect()[0]['count']\n",
				"time_standard = time.time() - start_time\n",
				"\n",
				"print(f\"   Results: {count_standard} demand points covered\")\n",
				"print(f\"   Time: {time_standard:.3f} seconds\")\n",
				"\n",
				"# Test 2: With broadcast hint (good when one side is small)\n",
				"print(\"\\n2. Broadcast Join (for small dataset joins):\")\n",
				"start_time = time.time()\n",
				"result_broadcast = sedona.sql(\"\"\"\n",
				"    SELECT /*+ BROADCAST(d) */ COUNT(*) as count\n",
				"    FROM demand_points d\n",
				"    JOIN service_areas s \n",
				"        ON ST_Within(\n",
				"            ST_Transform(d.geometry, 'EPSG:4326', 'EPSG:3857'),\n",
				"            s.service_area_geom\n",
				"        )\n",
				"\"\"\")\n",
				"count_broadcast = result_broadcast.collect()[0]['count']\n",
				"time_broadcast = time.time() - start_time\n",
				"\n",
				"print(f\"   Results: {count_broadcast} demand points covered\")\n",
				"print(f\"   Time: {time_broadcast:.3f} seconds\")\n",
				"print(f\"   Note: Broadcast overhead may not help with very small datasets\")\n",
				"\n",
				"# Test 3: Pre-filtering before spatial join (always beneficial)\n",
				"print(\"\\n3. Pre-filtered Spatial Join (best practice):\")\n",
				"start_time = time.time()\n",
				"result_filtered = sedona.sql(\"\"\"\n",
				"    SELECT COUNT(*) as count\n",
				"    FROM demand_points d\n",
				"    JOIN service_areas s \n",
				"        ON ST_Within(\n",
				"            ST_Transform(d.geometry, 'EPSG:4326', 'EPSG:3857'),\n",
				"            s.service_area_geom\n",
				"        )\n",
				"    WHERE s.voltage_kv >= 230  -- Filter before spatial operation\n",
				"\"\"\")\n",
				"count_filtered = result_filtered.collect()[0]['count']\n",
				"time_filtered = time.time() - start_time\n",
				"\n",
				"print(f\"   Results: {count_filtered} demand points covered by high-voltage substations\")\n",
				"print(f\"   Time: {time_filtered:.3f} seconds\")\n",
				"print(f\"   Note: Pre-filtering reduces data before expensive spatial operations\")\n",
				"\n",
				"print(\"\\n\" + \"=\"*60)\n",
				"print(\"KEY OPTIMIZATION TECHNIQUES:\")\n",
				"print(\"=\"*60)\n",
				"print(\"1. BROADCAST JOIN: Use /*+ BROADCAST(table) */ for small (<10MB) to large joins\")\n",
				"print(\"   - Sends small dataset to all workers\")\n",
				"print(\"   - Most effective with 1:many join ratios\")\n",
				"print()\n",
				"print(\"2. PRE-FILTERING: Apply non-spatial filters BEFORE spatial operations\")\n",
				"print(\"   - Filter by attributes first (voltage_kv, capacity, etc.)\")\n",
				"print(\"   - Reduces data volume for expensive spatial computations\")\n",
				"print()\n",
				"print(\"3. CACHING: Use .cache() for datasets used multiple times\")\n",
				"print(\"   - Stores intermediate results in memory\")\n",
				"print(\"   - Avoids recomputing expensive operations\")\n",
				"print()\n",
				"print(\"4. SPATIAL PARTITIONING: Sedona automatically partitions spatially\")\n",
				"print(\"   - Groups nearby geometries together\")\n",
				"print(\"   - Reduces cross-partition communication\")\n",
				"print()\n",
				"print(\"5. PREDICATE PUSHDOWN: Use spatial predicates efficiently\")\n",
				"print(\"   - ST_Within, ST_Intersects often faster than ST_Distance\")\n",
				"print(\"   - Avoid ST_Distance when spatial predicates suffice\")\n"
			]
		},
		{
			"cell_type": "markdown",
			"metadata": {},
			"source": [
				"### 5.1 Caching for Better Performance"
			]
		},
		{
			"cell_type": "code",
			"execution_count": 26,
			"metadata": {
				"tags": [],
				"trusted": true,
				"vscode": {
					"languageId": "python_glue_session"
				}
			},
			"outputs": [
				{
					"name": "stdout",
					"output_type": "stream",
					"text": [
						"Service areas cached: 25 records\n",
						"Substations cached: 25 records\n",
						"\n",
						"Cached datasets ready for fast repeated queries!\n",
						"Tip: Use .cache() on DataFrames that will be reused multiple times\n"
					]
				}
			],
			"source": [
				"# Cache frequently used spatial datasets\n",
				"service_areas_cached = service_areas.cache()\n",
				"substations_cached = substations_geo.cache()\n",
				"\n",
				"# Force materialization\n",
				"print(f\"Service areas cached: {service_areas_cached.count()} records\")\n",
				"print(f\"Substations cached: {substations_cached.count()} records\")\n",
				"\n",
				"# Now subsequent queries on these datasets will be faster\n",
				"print(\"\\nCached datasets ready for fast repeated queries!\")\n",
				"print(\"Tip: Use .cache() on DataFrames that will be reused multiple times\")"
			]
		},
		{
			"cell_type": "markdown",
			"metadata": {},
			"source": [
				"## 6. Scaling Demonstration\n",
				"\n",
				"Let's scale up our dataset to show how Sedona handles larger data volumes efficiently."
			]
		},
		{
			"cell_type": "code",
			"execution_count": 27,
			"metadata": {
				"tags": [],
				"trusted": true,
				"vscode": {
					"languageId": "python_glue_session"
				}
			},
			"outputs": [
				{
					"name": "stdout",
					"output_type": "stream",
					"text": [
						"============================================================\n",
						"SCALING DEMONSTRATION\n",
						"============================================================\n",
						"Original substations: 25\n",
						"Scaled substations: 150\n",
						"Scale factor: 6.0x\n",
						"\n",
						"Voltage distribution:\n",
						"+----------+-----+\n",
						"|voltage_kv|count|\n",
						"+----------+-----+\n",
						"|       138|   32|\n",
						"|       230|   36|\n",
						"|       345|   42|\n",
						"|       500|   40|\n",
						"+----------+-----+\n"
					]
				}
			],
			"source": [
				"# Generate a larger dataset of substations (scale from 25 to 150)\n",
				"# This is reasonable for 2 DPUs and demonstrates scaling without long wait times\n",
				"np.random.seed(123)\n",
				"n_substations_scaled = 150\n",
				"\n",
				"scaled_substation_ids = [f'SUB-SCALED-{i+1:03d}' for i in range(n_substations_scaled)]\n",
				"# Convert numpy types to Python native types for Spark\n",
				"scaled_voltages = [int(v) for v in np.random.choice([138, 230, 345, 500], n_substations_scaled)]\n",
				"scaled_lons = [float(lon) for lon in np.random.uniform(\n",
				"    study_area_bounds['min_lon'], \n",
				"    study_area_bounds['max_lon'], \n",
				"    n_substations_scaled\n",
				")]\n",
				"scaled_lats = [float(lat) for lat in np.random.uniform(\n",
				"    study_area_bounds['min_lat'], \n",
				"    study_area_bounds['max_lat'], \n",
				"    n_substations_scaled\n",
				")]\n",
				"\n",
				"scaled_substations_data = list(zip(scaled_substation_ids, scaled_voltages, scaled_lons, scaled_lats))\n",
				"\n",
				"# Create scaled DataFrame\n",
				"scaled_substations_df = spark.createDataFrame(\n",
				"    scaled_substations_data,\n",
				"    ['id', 'voltage_kv', 'lon', 'lat']\n",
				")\n",
				"\n",
				"# Add geometry\n",
				"scaled_substations_df.createOrReplaceTempView(\"scaled_substations_temp\")\n",
				"scaled_substations_geo = sedona.sql(\"\"\"\n",
				"    SELECT \n",
				"        id,\n",
				"        voltage_kv,\n",
				"        lon,\n",
				"        lat,\n",
				"        ST_Point(CAST(lon AS Decimal(24,20)), CAST(lat AS Decimal(24,20))) AS geometry\n",
				"    FROM scaled_substations_temp\n",
				"\"\"\")\n",
				"\n",
				"scaled_substations_geo.createOrReplaceTempView(\"scaled_substations\")\n",
				"\n",
				"print(\"=\"*60)\n",
				"print(\"SCALING DEMONSTRATION\")\n",
				"print(\"=\"*60)\n",
				"print(f\"Original substations: 25\")\n",
				"print(f\"Scaled substations: {n_substations_scaled}\")\n",
				"print(f\"Scale factor: {n_substations_scaled/25:.1f}x\")\n",
				"print(\"\\nVoltage distribution:\")\n",
				"sedona.sql(\"\"\"\n",
				"    SELECT voltage_kv, COUNT(*) as count\n",
				"    FROM scaled_substations\n",
				"    GROUP BY voltage_kv\n",
				"    ORDER BY voltage_kv\n",
				"\"\"\").show()"
			]
		},
		{
			"cell_type": "code",
			"execution_count": 28,
			"metadata": {
				"tags": [],
				"trusted": true,
				"vscode": {
					"languageId": "python_glue_session"
				}
			},
			"outputs": [
				{
					"name": "stdout",
					"output_type": "stream",
					"text": [
						"Analyzing scaled service areas...\n",
						"\n",
						"Scaled Analysis Results:\n",
						"Query time: 0.725 seconds\n",
						"Results: 7 demand points analyzed\n",
						"+-----------------+---------+------------------------+\n",
						"|name             |demand_mw|num_covering_substations|\n",
						"+-----------------+---------+------------------------+\n",
						"|City A           |150      |5                       |\n",
						"|City C           |100      |4                       |\n",
						"|Industrial Zone 1|300      |3                       |\n",
						"|City B           |200      |3                       |\n",
						"|Industrial Zone 2|250      |2                       |\n",
						"|City D           |180      |2                       |\n",
						"|City E           |120      |0                       |\n",
						"+-----------------+---------+------------------------+\n",
						"\n",
						"\n",
						"Coverage Comparison:\n",
						"Original (25 substations): 42.9% coverage\n",
						"Scaled (150 substations): 85.7% coverage\n",
						"Improvement: +42.9%\n",
						"\n",
						"Redundancy (2+ substations covering each point):\n",
						"Scaled dataset: 6 / 7 points\n"
					]
				}
			],
			"source": [
				"# Create scaled service areas\n",
				"scaled_service_areas = sedona.sql(\"\"\"\n",
				"    SELECT \n",
				"        id,\n",
				"        voltage_kv,\n",
				"        CASE \n",
				"            WHEN voltage_kv >= 500 THEN 75000\n",
				"            WHEN voltage_kv >= 345 THEN 60000\n",
				"            WHEN voltage_kv >= 230 THEN 50000\n",
				"            ELSE 40000\n",
				"        END as service_radius_m,\n",
				"        geometry as original_geom,\n",
				"        ST_Buffer(\n",
				"            ST_Transform(geometry, 'EPSG:4326', 'EPSG:3857'),\n",
				"            CASE \n",
				"                WHEN voltage_kv >= 500 THEN 75000\n",
				"                WHEN voltage_kv >= 345 THEN 60000\n",
				"                WHEN voltage_kv >= 230 THEN 50000\n",
				"                ELSE 40000\n",
				"            END\n",
				"        ) as service_area_geom\n",
				"    FROM scaled_substations\n",
				"\"\"\")\n",
				"\n",
				"scaled_service_areas.createOrReplaceTempView(\"scaled_service_areas\")\n",
				"\n",
				"# Perform spatial analysis on scaled dataset\n",
				"print(\"Analyzing scaled service areas...\")\n",
				"\n",
				"start_time = time.time()\n",
				"scaled_coverage = sedona.sql(\"\"\"\n",
				"    SELECT \n",
				"        d.name,\n",
				"        d.demand_mw,\n",
				"        COUNT(DISTINCT s.id) as num_covering_substations\n",
				"    FROM demand_points d\n",
				"    LEFT JOIN scaled_service_areas s \n",
				"        ON ST_Within(\n",
				"            ST_Transform(d.geometry, 'EPSG:4326', 'EPSG:3857'),\n",
				"            s.service_area_geom\n",
				"        )\n",
				"    GROUP BY d.name, d.demand_mw\n",
				"    ORDER BY num_covering_substations DESC\n",
				"\"\"\")\n",
				"\n",
				"result_count = scaled_coverage.count()\n",
				"query_time = time.time() - start_time\n",
				"\n",
				"print(f\"\\nScaled Analysis Results:\")\n",
				"print(f\"Query time: {query_time:.3f} seconds\")\n",
				"print(f\"Results: {result_count} demand points analyzed\")\n",
				"\n",
				"scaled_coverage.show(truncate=False)\n",
				"\n",
				"# Compare coverage between original and scaled datasets\n",
				"covered_scaled = scaled_coverage.filter(\"num_covering_substations > 0\").count()\n",
				"coverage_pct_scaled = (covered_scaled / result_count) * 100\n",
				"redundant_scaled = scaled_coverage.filter(\"num_covering_substations >= 2\").count()\n",
				"\n",
				"print(f\"\\nCoverage Comparison:\")\n",
				"print(f\"Original (25 substations): {coverage_pct:.1f}% coverage\")\n",
				"print(f\"Scaled (150 substations): {coverage_pct_scaled:.1f}% coverage\")\n",
				"print(f\"Improvement: +{coverage_pct_scaled - coverage_pct:.1f}%\")\n",
				"print(f\"\\nRedundancy (2+ substations covering each point):\")\n",
				"print(f\"Scaled dataset: {redundant_scaled} / {result_count} points\")"
			]
		},
		{
			"cell_type": "markdown",
			"metadata": {},
			"source": [
				"## 7. Data Export\n",
				"\n",
				"Export processed geospatial data to S3 for further analysis or sharing."
			]
		},
		{
			"cell_type": "code",
			"execution_count": null,
			"metadata": {
				"tags": [],
				"trusted": true,
				"vscode": {
					"languageId": "python_glue_session"
				}
			},
			"outputs": [],
			"source": [
				"# Export to GeoParquet format (efficient for large geospatial datasets)\n",
				"# GeoParquet is columnar and supports spatial indexing\n",
				"\n",
				"# IMPORTANT: Replace with your S3 bucket path\n",
				"s3_output_base = \"s3://{YOUR-BUCKET-NAME}/apache_sedona_output_files/\"\n",
				"\n",
				"# Prepare data for export (convert geometry to WKT for Parquet)\n",
				"power_plants_export = sedona.sql(\"\"\"\n",
				"    SELECT \n",
				"        name,\n",
				"        type,\n",
				"        capacity_mw,\n",
				"        lon,\n",
				"        lat,\n",
				"        ST_AsText(geometry) as geometry_wkt\n",
				"    FROM power_plants\n",
				"\"\"\")\n",
				"\n",
				"substations_export = sedona.sql(\"\"\"\n",
				"    SELECT \n",
				"        id,\n",
				"        voltage_kv,\n",
				"        lon,\n",
				"        lat,\n",
				"        ST_AsText(geometry) as geometry_wkt\n",
				"    FROM substations\n",
				"\"\"\")\n",
				"\n",
				"transmission_lines_export = sedona.sql(\"\"\"\n",
				"    SELECT \n",
				"        from_name,\n",
				"        from_type,\n",
				"        to_name,\n",
				"        to_type,\n",
				"        voltage_kv,\n",
				"        distance_km,\n",
				"        ST_AsText(geometry) as geometry_wkt\n",
				"    FROM transmission_lines\n",
				"\"\"\")\n",
				"\n",
				"# Export to Parquet (comment out if you don't have S3 write access)\n",
				"power_plants_export.write.mode(\"overwrite\").parquet(f\"{s3_output_base}power_plants/\")\n",
				"substations_export.write.mode(\"overwrite\").parquet(f\"{s3_output_base}substations/\")\n",
				"transmission_lines_export.write.mode(\"overwrite\").parquet(f\"{s3_output_base}transmission_lines/\")\n",
				"\n",
				"print(\"GeoParquet Export Configuration:\")\n",
				"print(f\"Output path: {s3_output_base}\")\n",
				"print(\"\\nTo export, uncomment the write commands and ensure:\")\n",
				"print(\"1. S3 bucket exists and you have write permissions\")\n",
				"print(\"2. AWS credentials are configured\")\n",
				"print(\"3. Replace 'YOUR-BUCKET' with your actual bucket name\")\n",
				"print(\"\\nDatasets ready for export:\")\n",
				"print(f\"  - Power plants: {power_plants_export.count()} records\")\n",
				"print(f\"  - Substations: {substations_export.count()} records\")\n",
				"print(f\"  - Transmission lines: {transmission_lines_export.count()} records\")"
			]
		},
		{
			"cell_type": "code",
			"execution_count": 42,
			"metadata": {
				"tags": [],
				"trusted": true,
				"vscode": {
					"languageId": "python_glue_session"
				}
			},
			"outputs": [
				{
					"name": "stdout",
					"output_type": "stream",
					"text": [
						"Stopping session: 39b9a8bf-691d-4ed1-a548-6e7514e551b0\n",
						"Stopped session.\n"
					]
				}
			],
			"source": [
				"%stop_session"
			]
		}
	],
	"metadata": {
		"kernelspec": {
			"display_name": "Glue PySpark",
			"language": "python",
			"name": "glue_pyspark"
		},
		"language_info": {
			"codemirror_mode": {
				"name": "python",
				"version": 3
			},
			"file_extension": ".py",
			"mimetype": "text/x-python",
			"name": "Python_Glue_Session",
			"pygments_lexer": "python3"
		}
	},
	"nbformat": 4,
	"nbformat_minor": 4
}
